{
 "cells": [
  {
   "cell_type": "code",
   "execution_count": 23,
   "metadata": {},
   "outputs": [],
   "source": [
    "import pandas as pd\n",
    "df=pd.read_csv(\"/mnt/sde1/geth/nft_analyse_v1/data/buySell/csv/buysell_final.csv\")"
   ]
  },
  {
   "cell_type": "code",
   "execution_count": 24,
   "metadata": {},
   "outputs": [
    {
     "name": "stdout",
     "output_type": "stream",
     "text": [
      "OpenSea_seaportV1                     5812\n",
      "OpenSea_seaportV1;Sudoswap            4573\n",
      "OpenSea_wyvernV2                      2841\n",
      "Sudoswap                              2472\n",
      "OpenSea_wyvernV1                      1542\n",
      "OpenSea_wyvernV2;LooksRare            1456\n",
      "X2Y2;Sudoswap                         1435\n",
      "OpenSea_seaportV1;LooksRare            787\n",
      "X2Y2;OpenSea_seaportV1                 483\n",
      "LooksRare;Sudoswap                     442\n",
      "LooksRare                              422\n",
      "LooksRare;OpenSea_seaportV1            373\n",
      "Blur;OpenSea_seaportV1                 350\n",
      "LooksRare;OpenSea_wyvernV2             249\n",
      "Blur;Sudoswap                          127\n",
      "X2Y2;LooksRare                         123\n",
      "Sudoswap;OpenSea_seaportV1              88\n",
      "Arcade                                  62\n",
      "Sudoswap;LooksRare                      54\n",
      "OpenSea_wyvernV2;OpenSea_seaportV1      23\n",
      "none                                    15\n",
      "X2Y2                                    15\n",
      "X2Y2;OpenSea_wyvernV2                   12\n",
      "OpenSea_seaportV1;X2Y2                  12\n",
      "OpenSea_wyvernV1;LooksRare              11\n",
      "OpenSea_wyvernV1;OpenSea_wyvernV2        9\n",
      "OpenSea_seaportV1;OpenSea_wyvernV2       7\n",
      "GemSwap;X2Y2                             6\n",
      "OpenSea_wyvernV2;OpenSea_wyvernV1        5\n",
      "Rarible_v2                               4\n",
      "GemSwap;LooksRare                        4\n",
      "Rarible_v2;Sudoswap                      2\n",
      "Blur;LooksRare                           2\n",
      "Rarible_v2;OpenSea_seaportV1             2\n",
      "Name: market, dtype: int64\n",
      "len none 15\n",
      "len none 62\n"
     ]
    }
   ],
   "source": [
    "len(df[\"market\"].value_counts())\n",
    "print(df[\"market\"].value_counts())\n",
    "print(\"len none\",len(df[df[\"market\"]==\"none\"]))\n",
    "print(\"len none\",len(df[df[\"market\"]==\"Arcade\"]))"
   ]
  },
  {
   "cell_type": "code",
   "execution_count": 25,
   "metadata": {},
   "outputs": [
    {
     "name": "stdout",
     "output_type": "stream",
     "text": [
      "OpenSea      17078\n",
      "Sudoswap      2614\n",
      "X2Y2          2068\n",
      "LooksRare     1486\n",
      "Blur           479\n",
      "Arcade          62\n",
      "none            15\n",
      "GemSwap         10\n",
      "Rarible          8\n",
      "Name: marketEdit, dtype: int64\n"
     ]
    }
   ],
   "source": [
    "print(df[\"marketEdit\"].value_counts())"
   ]
  },
  {
   "cell_type": "code",
   "execution_count": 26,
   "metadata": {},
   "outputs": [
    {
     "name": "stdout",
     "output_type": "stream",
     "text": [
      "{'OpenSea_wyvernV2', 'Sudoswap', 'GemSwap', 'OpenSea_wyvernV1', 'none', 'Arcade', 'X2Y2', 'LooksRare', 'Blur', 'OpenSea_seaportV1', 'Rarible_v2'}\n",
      "{'Sudoswap', 'OpenSea_wyvernV2', 'OpenSea_wyvernV1', 'none', 'Arcade', 'X2Y2', 'LooksRare', 'OpenSea_seaportV1', 'Rarible_v2'}\n"
     ]
    }
   ],
   "source": [
    "marketSet0=set()\n",
    "marketSet1=set()\n",
    "\n",
    "valueCounts=df[\"market\"].value_counts()\n",
    "for key in valueCounts.keys():\n",
    "    tempList=key.split(\";\")\n",
    "    if len(tempList)==1:\n",
    "        marketSet0.add(tempList[0])\n",
    "        marketSet1.add(tempList[0])\n",
    "    else:\n",
    "        marketSet0.add(tempList[0])\n",
    "        marketSet1.add(tempList[1])\n",
    "print(marketSet0)\n",
    "print(marketSet1)"
   ]
  },
  {
   "cell_type": "markdown",
   "metadata": {},
   "source": [
    "# 总览"
   ]
  },
  {
   "cell_type": "code",
   "execution_count": 9,
   "metadata": {},
   "outputs": [
    {
     "name": "stdout",
     "output_type": "stream",
     "text": [
      "ori len 23820\n",
      "after 23733\n",
      "len(df) 23733\n",
      "sum(df[revenue_eth]) 2123.9239944935885\n",
      "sum(df[revenue_dollar]) 5414643.888296365\n",
      "len(lossDf) 1068\n",
      "sum(lossDf[revenue_eth]) -30.02760794859173\n",
      "sum(lossDf[revenue_dollar]) -72427.89726277572\n",
      "len(profitDf) 22665\n",
      "sum(profitDf[revenue_eth]) 2153.951602442174\n",
      "sum(profitDf[revenue_dollar]) 5487071.785559157\n"
     ]
    }
   ],
   "source": [
    "df=pd.read_csv(\"/mnt/sde1/geth/nft_analyse_v1/data/buySell/csv/buysell_final.csv\")\n",
    "print(\"ori len\",len(df))\n",
    "df=df[df[\"marketEdit\"]!=\"none\"]\n",
    "df=df[df[\"marketEdit\"]!=\"Arcade\"]\n",
    "df=df[df[\"marketEdit\"]!=\"GemSwap\"]\n",
    "\n",
    "print(\"after\",len(df))\n",
    "\n",
    "lossDf=df[df[\"revenue_eth\"]<0]\n",
    "profitDf=df[df[\"revenue_eth\"]>0]\n",
    "\n",
    "print(\"len(df)\",len(df))\n",
    "print(\"sum(df[revenue_eth])\",sum(df[\"revenue_eth\"]))\n",
    "print(\"sum(df[revenue_dollar])\",sum(df[\"revenue_dollar\"]))\n",
    "\n",
    "print(\"len(lossDf)\",len(lossDf))\n",
    "print(\"sum(lossDf[revenue_eth])\",sum(lossDf[\"revenue_eth\"]))\n",
    "print(\"sum(lossDf[revenue_dollar])\",sum(lossDf[\"revenue_dollar\"]))\n",
    "\n",
    "print(\"len(profitDf)\",len(profitDf))\n",
    "print(\"sum(profitDf[revenue_eth])\",sum(profitDf[\"revenue_eth\"]))\n",
    "print(\"sum(profitDf[revenue_dollar])\",sum(profitDf[\"revenue_dollar\"]))"
   ]
  },
  {
   "cell_type": "code",
   "execution_count": 10,
   "metadata": {},
   "outputs": [
    {
     "data": {
      "text/html": [
       "<div>\n",
       "<style scoped>\n",
       "    .dataframe tbody tr th:only-of-type {\n",
       "        vertical-align: middle;\n",
       "    }\n",
       "\n",
       "    .dataframe tbody tr th {\n",
       "        vertical-align: top;\n",
       "    }\n",
       "\n",
       "    .dataframe thead th {\n",
       "        text-align: right;\n",
       "    }\n",
       "</style>\n",
       "<table border=\"1\" class=\"dataframe\">\n",
       "  <thead>\n",
       "    <tr style=\"text-align: right;\">\n",
       "      <th></th>\n",
       "      <th>transactionHash</th>\n",
       "      <th>blockNumber</th>\n",
       "      <th>timestamp</th>\n",
       "      <th>position</th>\n",
       "      <th>transactionFee</th>\n",
       "      <th>coinbase_transfer</th>\n",
       "      <th>flashbots</th>\n",
       "      <th>toAddress</th>\n",
       "      <th>tokenAddress</th>\n",
       "      <th>tokenId</th>\n",
       "      <th>inEth</th>\n",
       "      <th>outEth</th>\n",
       "      <th>ethPrice</th>\n",
       "      <th>revenue_eth</th>\n",
       "      <th>revenue_dollar</th>\n",
       "      <th>market</th>\n",
       "      <th>marketEdit</th>\n",
       "    </tr>\n",
       "  </thead>\n",
       "  <tbody>\n",
       "    <tr>\n",
       "      <th>3406</th>\n",
       "      <td>0x0659a203bd7a97d497562b14aa18f5946ded50be2b14...</td>\n",
       "      <td>14630524</td>\n",
       "      <td>1650574237</td>\n",
       "      <td>9</td>\n",
       "      <td>492978589593789323</td>\n",
       "      <td>0</td>\n",
       "      <td>False</td>\n",
       "      <td>0x9e9346e082d445f08fab1758984a31648c89241a</td>\n",
       "      <td>0x23581767a106ae21c074b2276d25e5c3e136a68b</td>\n",
       "      <td>3730</td>\n",
       "      <td>2.232000e+20</td>\n",
       "      <td>4.400000e+19</td>\n",
       "      <td>2985.502896</td>\n",
       "      <td>178.707021</td>\n",
       "      <td>533530.330014</td>\n",
       "      <td>LooksRare</td>\n",
       "      <td>LooksRare</td>\n",
       "    </tr>\n",
       "  </tbody>\n",
       "</table>\n",
       "</div>"
      ],
      "text/plain": [
       "                                        transactionHash  blockNumber  \\\n",
       "3406  0x0659a203bd7a97d497562b14aa18f5946ded50be2b14...     14630524   \n",
       "\n",
       "       timestamp  position      transactionFee coinbase_transfer  flashbots  \\\n",
       "3406  1650574237         9  492978589593789323                 0      False   \n",
       "\n",
       "                                       toAddress  \\\n",
       "3406  0x9e9346e082d445f08fab1758984a31648c89241a   \n",
       "\n",
       "                                    tokenAddress tokenId         inEth  \\\n",
       "3406  0x23581767a106ae21c074b2276d25e5c3e136a68b    3730  2.232000e+20   \n",
       "\n",
       "            outEth     ethPrice  revenue_eth  revenue_dollar     market  \\\n",
       "3406  4.400000e+19  2985.502896   178.707021   533530.330014  LooksRare   \n",
       "\n",
       "     marketEdit  \n",
       "3406  LooksRare  "
      ]
     },
     "execution_count": 10,
     "metadata": {},
     "output_type": "execute_result"
    }
   ],
   "source": [
    "df[df[\"revenue_eth\"]==max(df[\"revenue_eth\"])]"
   ]
  },
  {
   "cell_type": "markdown",
   "metadata": {},
   "source": [
    "# 涉及市场个数分析"
   ]
  },
  {
   "cell_type": "code",
   "execution_count": 27,
   "metadata": {},
   "outputs": [
    {
     "name": "stdout",
     "output_type": "stream",
     "text": [
      "13108\n",
      "10625\n"
     ]
    }
   ],
   "source": [
    "import pandas as pd\n",
    "df=pd.read_csv(\"/mnt/sde1/geth/nft_analyse_v1/data/buySell/csv/buysell_final.csv\")\n",
    "df=df[df[\"marketEdit\"]!=\"none\"]\n",
    "df=df[df[\"marketEdit\"]!=\"Arcade\"]\n",
    "df=df[df[\"marketEdit\"]!=\"GemSwap\"]\n",
    "addrMap={}\n",
    "one=0\n",
    "two=0\n",
    "for index, row in df.iterrows():\n",
    "    market=row[\"market\"]\n",
    "    tempList=market.split(\";\")\n",
    "    if len(tempList)==1:\n",
    "        one+=1\n",
    "    else:\n",
    "        two+=1\n",
    "        \n",
    "print(one)\n",
    "print(two)"
   ]
  },
  {
   "cell_type": "code",
   "execution_count": 16,
   "metadata": {},
   "outputs": [],
   "source": [
    "import pandas as pd\n",
    "df=pd.read_csv(\"/mnt/sde1/geth/nft_analyse_v1/data/buySell/csv/buysell_final.csv\")\n",
    "df=df[df[\"marketEdit\"]!=\"none\"]\n",
    "df=df[df[\"marketEdit\"]!=\"Arcade\"]\n",
    "df=df[df[\"marketEdit\"]!=\"GemSwap\"]\n",
    "addrMap={}\n",
    "for index, row in df.iterrows():\n",
    "    toAddress=row[\"toAddress\"]\n",
    "    revenue_dollar=row[\"revenue_dollar\"]\n",
    "    if toAddress not in addrMap:\n",
    "        addrMap[toAddress]={\"count\":1,\"revenue_dollar\":revenue_dollar}\n",
    "    else:\n",
    "        addrMap[toAddress][\"count\"]+=1\n",
    "        addrMap[toAddress][\"revenue_dollar\"]+=revenue_dollar\n",
    "# addrMap\n",
    "tempList=[]\n",
    "for key,value in addrMap.items():\n",
    "    tempList.append({\"address\":key,\"count\":value[\"count\"]})\n",
    "\n",
    "df = pd.DataFrame(tempList)"
   ]
  },
  {
   "cell_type": "code",
   "execution_count": 19,
   "metadata": {},
   "outputs": [
    {
     "data": {
      "text/html": [
       "<div>\n",
       "<style scoped>\n",
       "    .dataframe tbody tr th:only-of-type {\n",
       "        vertical-align: middle;\n",
       "    }\n",
       "\n",
       "    .dataframe tbody tr th {\n",
       "        vertical-align: top;\n",
       "    }\n",
       "\n",
       "    .dataframe thead th {\n",
       "        text-align: right;\n",
       "    }\n",
       "</style>\n",
       "<table border=\"1\" class=\"dataframe\">\n",
       "  <thead>\n",
       "    <tr style=\"text-align: right;\">\n",
       "      <th></th>\n",
       "      <th>address</th>\n",
       "      <th>count</th>\n",
       "    </tr>\n",
       "  </thead>\n",
       "  <tbody>\n",
       "    <tr>\n",
       "      <th>158</th>\n",
       "      <td>0x0000007370af0000ad00be0efd2f1eb6e6e9d700</td>\n",
       "      <td>5497</td>\n",
       "    </tr>\n",
       "    <tr>\n",
       "      <th>48</th>\n",
       "      <td>0x9e9346e082d445f08fab1758984a31648c89241a</td>\n",
       "      <td>1371</td>\n",
       "    </tr>\n",
       "    <tr>\n",
       "      <th>124</th>\n",
       "      <td>0x6d660980b00c3405c2dec173cf2259b15572b9b5</td>\n",
       "      <td>1120</td>\n",
       "    </tr>\n",
       "    <tr>\n",
       "      <th>151</th>\n",
       "      <td>0x0000009929ab383f0000e5e800f255c6c600ad32</td>\n",
       "      <td>1088</td>\n",
       "    </tr>\n",
       "    <tr>\n",
       "      <th>47</th>\n",
       "      <td>0x553eea17185e5ae6bb72f9528a4c3fc1a844b859</td>\n",
       "      <td>801</td>\n",
       "    </tr>\n",
       "    <tr>\n",
       "      <th>140</th>\n",
       "      <td>0x0000008682fa8c3aa14b11894e90e3dcbbff715b</td>\n",
       "      <td>632</td>\n",
       "    </tr>\n",
       "    <tr>\n",
       "      <th>175</th>\n",
       "      <td>0xa5c5e686f7f4ff921a4c9bc0a512c3183cbc863b</td>\n",
       "      <td>631</td>\n",
       "    </tr>\n",
       "    <tr>\n",
       "      <th>46</th>\n",
       "      <td>0x6b58007b960016b2f559dbfd809ac4dcb1febdfe</td>\n",
       "      <td>568</td>\n",
       "    </tr>\n",
       "    <tr>\n",
       "      <th>97</th>\n",
       "      <td>0x00000007d259e6b322766529ac387b53a1584724</td>\n",
       "      <td>486</td>\n",
       "    </tr>\n",
       "    <tr>\n",
       "      <th>216</th>\n",
       "      <td>0x0000000f20b778d2424e95120652e2d40d8f5aac</td>\n",
       "      <td>464</td>\n",
       "    </tr>\n",
       "  </tbody>\n",
       "</table>\n",
       "</div>"
      ],
      "text/plain": [
       "                                        address  count\n",
       "158  0x0000007370af0000ad00be0efd2f1eb6e6e9d700   5497\n",
       "48   0x9e9346e082d445f08fab1758984a31648c89241a   1371\n",
       "124  0x6d660980b00c3405c2dec173cf2259b15572b9b5   1120\n",
       "151  0x0000009929ab383f0000e5e800f255c6c600ad32   1088\n",
       "47   0x553eea17185e5ae6bb72f9528a4c3fc1a844b859    801\n",
       "140  0x0000008682fa8c3aa14b11894e90e3dcbbff715b    632\n",
       "175  0xa5c5e686f7f4ff921a4c9bc0a512c3183cbc863b    631\n",
       "46   0x6b58007b960016b2f559dbfd809ac4dcb1febdfe    568\n",
       "97   0x00000007d259e6b322766529ac387b53a1584724    486\n",
       "216  0x0000000f20b778d2424e95120652e2d40d8f5aac    464"
      ]
     },
     "execution_count": 19,
     "metadata": {},
     "output_type": "execute_result"
    }
   ],
   "source": [
    "df=df.sort_values(by=\"count\",ascending=False)\n",
    "df[:10]"
   ]
  },
  {
   "cell_type": "code",
   "execution_count": 20,
   "metadata": {},
   "outputs": [
    {
     "data": {
      "text/plain": [
       "{'count': 50, 'revenue_dollar': 1354.4847007048463}"
      ]
     },
     "execution_count": 20,
     "metadata": {},
     "output_type": "execute_result"
    }
   ],
   "source": [
    "addrMap[\"0xfd597eaa0b6e895904e8c1bf88ea79187f3ec38d\"]"
   ]
  },
  {
   "cell_type": "code",
   "execution_count": 21,
   "metadata": {},
   "outputs": [
    {
     "data": {
      "text/plain": [
       "{'count': 486, 'revenue_dollar': 4100.408506502074}"
      ]
     },
     "execution_count": 21,
     "metadata": {},
     "output_type": "execute_result"
    }
   ],
   "source": [
    "addrMap[\"0x00000007d259e6b322766529ac387b53a1584724\"]"
   ]
  },
  {
   "cell_type": "code",
   "execution_count": null,
   "metadata": {},
   "outputs": [],
   "source": []
  }
 ],
 "metadata": {
  "kernelspec": {
   "display_name": "base",
   "language": "python",
   "name": "python3"
  },
  "language_info": {
   "codemirror_mode": {
    "name": "ipython",
    "version": 3
   },
   "file_extension": ".py",
   "mimetype": "text/x-python",
   "name": "python",
   "nbconvert_exporter": "python",
   "pygments_lexer": "ipython3",
   "version": "3.9.13"
  },
  "orig_nbformat": 4
 },
 "nbformat": 4,
 "nbformat_minor": 2
}
