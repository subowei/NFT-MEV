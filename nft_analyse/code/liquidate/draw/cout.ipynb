{
 "cells": [
  {
   "cell_type": "code",
   "execution_count": 2,
   "metadata": {},
   "outputs": [
    {
     "name": "stdout",
     "output_type": "stream",
     "text": [
      "total len 119\n",
      "nft without price 76\n"
     ]
    }
   ],
   "source": [
    "import pandas as pd\n",
    "\n",
    "df=pd.read_csv(\"/mnt/sde1/geth/nft_analyse_v1/data/liquidate/csv/liquidate_withRevenue.csv\")\n",
    "\n",
    "print(\"total len\",len(df))\n",
    "\n",
    "print(\"nft without price\",len(df[df[\"nftPrice\"]==0]))"
   ]
  },
  {
   "cell_type": "code",
   "execution_count": 12,
   "metadata": {},
   "outputs": [
    {
     "name": "stdout",
     "output_type": "stream",
     "text": [
      "len 39\n",
      "total revunue 83903.3914781094\n",
      "max timestamp 1668476483\n",
      "min timestamp 1653686673\n"
     ]
    }
   ],
   "source": [
    "import pandas as pd\n",
    "df=pd.read_csv(\"/mnt/sde1/geth/nft_analyse_v1/data/liquidate/csv/firstBid_withRevenue.csv\")\n",
    "df=df[df[\"blockNumber\"]<=16000000]\n",
    "df=df[df[\"revenue_dollar\"]>0]\n",
    "print(\"len\",len(df))\n",
    "print(\"total revunue\",sum(df[\"revenue_dollar\"]))\n",
    "print(\"max timestamp\",max(df[\"timestamp\"]))\n",
    "print(\"min timestamp\",min(df[\"timestamp\"]))"
   ]
  },
  {
   "cell_type": "code",
   "execution_count": 17,
   "metadata": {},
   "outputs": [
    {
     "name": "stdout",
     "output_type": "stream",
     "text": [
      "len 127\n",
      "total revunue 3439589.590189822\n",
      "max revunue 173610.47771419754\n",
      "max timestamp 1668572387\n",
      "min timestamp 1653908000\n"
     ]
    }
   ],
   "source": [
    "import pandas as pd\n",
    "df=pd.read_csv(\"/mnt/sde1/geth/nft_analyse_v1/data/liquidate/csv/liquidate_withRevenue.csv\")\n",
    "df=df[df[\"revenue_dollar\"]>0]\n",
    "df=df[df[\"blockNumber\"]<=16000000]\n",
    "print(\"len\",len(df))\n",
    "print(\"total revunue\",sum(df[\"revenue_dollar\"]))\n",
    "print(\"max revunue\",max(df[\"revenue_dollar\"]))\n",
    "print(\"max timestamp\",max(df[\"timestamp\"]))\n",
    "print(\"min timestamp\",min(df[\"timestamp\"]))"
   ]
  },
  {
   "cell_type": "code",
   "execution_count": 7,
   "metadata": {},
   "outputs": [
    {
     "name": "stdout",
     "output_type": "stream",
     "text": [
      "len(df) 171\n",
      "sum(df[revenue_eth]) 1684.7962593772197\n",
      "sum(df[revenue_dollar]) 2669561.888843346\n",
      "len(lossDf) 38\n",
      "sum(lossDf[revenue_eth]) -591.4596825237393\n",
      "sum(lossDf[revenue_dollar]) -843169.9211851507\n",
      "len(profitDf) 133\n",
      "sum(profitDf[revenue_eth]) 2276.2559419009594\n",
      "sum(profitDf[revenue_dollar]) 3512731.8100284967\n"
     ]
    }
   ],
   "source": [
    "import pandas as pd\n",
    "df=pd.read_csv(\"/mnt/sde1/geth/nft_analyse_v1/data/liquidate/csv/liquidate_withRevenue.csv\")\n",
    "lossDf=df[df[\"revenue_eth\"]<0]\n",
    "profitDf=df[df[\"revenue_eth\"]>0]\n",
    "\n",
    "print(\"len(df)\",len(df))\n",
    "print(\"sum(df[revenue_eth])\",sum(df[\"revenue_eth\"]))\n",
    "print(\"sum(df[revenue_dollar])\",sum(df[\"revenue_dollar\"]))\n",
    "\n",
    "print(\"len(lossDf)\",len(lossDf))\n",
    "print(\"sum(lossDf[revenue_eth])\",sum(lossDf[\"revenue_eth\"]))\n",
    "print(\"sum(lossDf[revenue_dollar])\",sum(lossDf[\"revenue_dollar\"]))\n",
    "\n",
    "print(\"len(profitDf)\",len(profitDf))\n",
    "print(\"sum(profitDf[revenue_eth])\",sum(profitDf[\"revenue_eth\"]))\n",
    "print(\"sum(profitDf[revenue_dollar])\",sum(profitDf[\"revenue_dollar\"]))\n"
   ]
  },
  {
   "cell_type": "code",
   "execution_count": 19,
   "metadata": {},
   "outputs": [
    {
     "data": {
      "text/html": [
       "<div>\n",
       "<style scoped>\n",
       "    .dataframe tbody tr th:only-of-type {\n",
       "        vertical-align: middle;\n",
       "    }\n",
       "\n",
       "    .dataframe tbody tr th {\n",
       "        vertical-align: top;\n",
       "    }\n",
       "\n",
       "    .dataframe thead th {\n",
       "        text-align: right;\n",
       "    }\n",
       "</style>\n",
       "<table border=\"1\" class=\"dataframe\">\n",
       "  <thead>\n",
       "    <tr style=\"text-align: right;\">\n",
       "      <th></th>\n",
       "      <th>address</th>\n",
       "      <th>averageRevenue</th>\n",
       "    </tr>\n",
       "  </thead>\n",
       "  <tbody>\n",
       "    <tr>\n",
       "      <th>3</th>\n",
       "      <td>0xbc4ca0eda7647a8ab7c2061c2e118a18a936f13d</td>\n",
       "      <td>2.220095e+06</td>\n",
       "    </tr>\n",
       "    <tr>\n",
       "      <th>1</th>\n",
       "      <td>0x60e4d786628fea6478f785a6d7e704777c86a7c6</td>\n",
       "      <td>7.253717e+05</td>\n",
       "    </tr>\n",
       "    <tr>\n",
       "      <th>2</th>\n",
       "      <td>0x8a90cab2b38dba80c64b7734e58ee1db38b8992e</td>\n",
       "      <td>2.280353e+05</td>\n",
       "    </tr>\n",
       "    <tr>\n",
       "      <th>0</th>\n",
       "      <td>0xed5af388653567af2f388e6224dc7c4b3241c544</td>\n",
       "      <td>1.693643e+05</td>\n",
       "    </tr>\n",
       "    <tr>\n",
       "      <th>4</th>\n",
       "      <td>0x49cf6f5d44e70224e2e23fdcdd2c053f30ada28b</td>\n",
       "      <td>9.672286e+04</td>\n",
       "    </tr>\n",
       "  </tbody>\n",
       "</table>\n",
       "</div>"
      ],
      "text/plain": [
       "                                      address  averageRevenue\n",
       "3  0xbc4ca0eda7647a8ab7c2061c2e118a18a936f13d    2.220095e+06\n",
       "1  0x60e4d786628fea6478f785a6d7e704777c86a7c6    7.253717e+05\n",
       "2  0x8a90cab2b38dba80c64b7734e58ee1db38b8992e    2.280353e+05\n",
       "0  0xed5af388653567af2f388e6224dc7c4b3241c544    1.693643e+05\n",
       "4  0x49cf6f5d44e70224e2e23fdcdd2c053f30ada28b    9.672286e+04"
      ]
     },
     "execution_count": 19,
     "metadata": {},
     "output_type": "execute_result"
    }
   ],
   "source": [
    "import pandas as pd\n",
    "df=pd.read_csv(\"/mnt/sde1/geth/nft_analyse_v1/data/liquidate/csv/liquidate_withRevenue.csv\")\n",
    "df=df[df[\"revenue_dollar\"]>0]\n",
    "df=df[df[\"blockNumber\"]<=16000000]\n",
    "addrMap={}\n",
    "for index, row in df.iterrows():\n",
    "    tokenAddress=row[\"nftAsset\"]\n",
    "    revenue_dollar=row[\"revenue_dollar\"]\n",
    "    if tokenAddress not in addrMap:\n",
    "        addrMap[tokenAddress]={\"count\":1,\"revenue_dollar\":revenue_dollar}\n",
    "    else:\n",
    "        addrMap[tokenAddress][\"count\"]+=1\n",
    "        addrMap[tokenAddress][\"revenue_dollar\"]+=revenue_dollar\n",
    "        \n",
    "        \n",
    "tempList=[]\n",
    "for key,value in addrMap.items():\n",
    "    # tempList.append({\"address\":key,\"averageRevenue\":value[\"revenue_dollar\"]/value[\"count\"]})\n",
    "    tempList.append({\"address\":key,\"averageRevenue\":value[\"revenue_dollar\"]})\n",
    "\n",
    "\n",
    "df = pd.DataFrame(tempList)\n",
    "df.sort_values(by=\"averageRevenue\",ascending=False)"
   ]
  },
  {
   "cell_type": "code",
   "execution_count": 20,
   "metadata": {},
   "outputs": [
    {
     "data": {
      "text/plain": [
       "2220095.0"
      ]
     },
     "execution_count": 20,
     "metadata": {},
     "output_type": "execute_result"
    }
   ],
   "source": [
    "2.220095e+06"
   ]
  },
  {
   "cell_type": "code",
   "execution_count": null,
   "metadata": {},
   "outputs": [],
   "source": []
  }
 ],
 "metadata": {
  "kernelspec": {
   "display_name": "base",
   "language": "python",
   "name": "python3"
  },
  "language_info": {
   "codemirror_mode": {
    "name": "ipython",
    "version": 3
   },
   "file_extension": ".py",
   "mimetype": "text/x-python",
   "name": "python",
   "nbconvert_exporter": "python",
   "pygments_lexer": "ipython3",
   "version": "3.9.13"
  },
  "orig_nbformat": 4
 },
 "nbformat": 4,
 "nbformat_minor": 2
}
