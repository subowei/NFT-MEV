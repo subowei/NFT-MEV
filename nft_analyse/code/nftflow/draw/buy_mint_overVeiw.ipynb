{
 "cells": [
  {
   "cell_type": "code",
   "execution_count": 2,
   "metadata": {},
   "outputs": [],
   "source": [
    "import numpy as np\n",
    "import csv    #加载csv包便于读取csv文件\n",
    "import zipfile\n",
    "import os\n",
    "import json\n",
    "import pickle\n",
    "import pandas as pd\n",
    "import numpy as np\n",
    "import matplotlib.pyplot as plt\n",
    "import random"
   ]
  },
  {
   "cell_type": "code",
   "execution_count": 5,
   "metadata": {},
   "outputs": [
    {
     "name": "stdout",
     "output_type": "stream",
     "text": [
      "total····················································\n"
     ]
    },
    {
     "name": "stderr",
     "output_type": "stream",
     "text": [
      "/tmp/ipykernel_1698425/2075684247.py:9: DtypeWarning: Columns (2,21) have mixed types. Specify dtype option on import or set low_memory=False.\n",
      "  df=pd.read_csv(dirPath)\n"
     ]
    },
    {
     "name": "stdout",
     "output_type": "stream",
     "text": [
      "len tempDf 41272\n",
      "no second transaction····················································\n"
     ]
    },
    {
     "name": "stderr",
     "output_type": "stream",
     "text": [
      "/tmp/ipykernel_1698425/2075684247.py:15: DtypeWarning: Columns (2,21) have mixed types. Specify dtype option on import or set low_memory=False.\n",
      "  df=pd.read_csv(dirPath)\n"
     ]
    },
    {
     "name": "stdout",
     "output_type": "stream",
     "text": [
      "len tempDf 0\n",
      "have second transaction····················································\n"
     ]
    },
    {
     "name": "stderr",
     "output_type": "stream",
     "text": [
      "/tmp/ipykernel_1698425/2075684247.py:24: DtypeWarning: Columns (2,21) have mixed types. Specify dtype option on import or set low_memory=False.\n",
      "  df=pd.read_csv(dirPath)\n"
     ]
    },
    {
     "name": "stdout",
     "output_type": "stream",
     "text": [
      "len tempDf 41272\n",
      "Destructive Front-minting····················································\n"
     ]
    },
    {
     "name": "stderr",
     "output_type": "stream",
     "text": [
      "/tmp/ipykernel_1698425/2075684247.py:30: DtypeWarning: Columns (2,21) have mixed types. Specify dtype option on import or set low_memory=False.\n",
      "  df=pd.read_csv(dirPath)\n"
     ]
    },
    {
     "name": "stdout",
     "output_type": "stream",
     "text": [
      "len tempDf 483\n",
      "transactionHash_0:  430\n",
      "transactionHash_1:  420\n",
      "total transaction:  850\n",
      "Tolerating Front-minting····················································\n"
     ]
    },
    {
     "name": "stderr",
     "output_type": "stream",
     "text": [
      "/tmp/ipykernel_1698425/2075684247.py:47: DtypeWarning: Columns (2,21) have mixed types. Specify dtype option on import or set low_memory=False.\n",
      "  df=pd.read_csv(dirPath)\n"
     ]
    },
    {
     "name": "stdout",
     "output_type": "stream",
     "text": [
      "len tempDf 38848\n",
      "transactionHash_0:  30890\n",
      "transactionHash_1:  35054\n",
      "total transaction:  65944\n",
      "Destructive Front-Buying····················································\n"
     ]
    },
    {
     "name": "stderr",
     "output_type": "stream",
     "text": [
      "/tmp/ipykernel_1698425/2075684247.py:64: DtypeWarning: Columns (2,21) have mixed types. Specify dtype option on import or set low_memory=False.\n",
      "  df=pd.read_csv(dirPath)\n"
     ]
    },
    {
     "name": "stdout",
     "output_type": "stream",
     "text": [
      "len tempDf 1881\n",
      "transactionHash_0:  1878\n",
      "transactionHash_1:  1881\n",
      "total transaction:  3759\n",
      "Tolerating Front-Buying····················································\n",
      "len tempDf 60\n",
      "transactionHash_0:  60\n",
      "transactionHash_1:  58\n",
      "total transaction:  118\n"
     ]
    },
    {
     "name": "stderr",
     "output_type": "stream",
     "text": [
      "/tmp/ipykernel_1698425/2075684247.py:81: DtypeWarning: Columns (2,21) have mixed types. Specify dtype option on import or set low_memory=False.\n",
      "  df=pd.read_csv(dirPath)\n"
     ]
    }
   ],
   "source": [
    "count=[]\n",
    "name=[]\n",
    "name2count={}\n",
    "\n",
    "dirPath=\"/mnt/sde1/geth/nft_analyse_v1/data/nftflow/csv/nftFlow_final.csv\"\n",
    "\n",
    "# total····················································\n",
    "print(\"total····················································\")\n",
    "df=pd.read_csv(dirPath)\n",
    "print(\"len tempDf\",len(df))\n",
    "\n",
    "\n",
    "# no second transaction····················································\n",
    "print(\"no second transaction····················································\")\n",
    "df=pd.read_csv(dirPath)\n",
    "tempDf = df[ (df[\"isError_1\"]==\"none\") ]\n",
    "# count.append(len(tempDf))\n",
    "# name.append(\"Private Operation\")\n",
    "print(\"len tempDf\",len(tempDf))\n",
    "\n",
    "\n",
    "# have second transaction····················································\n",
    "print(\"have second transaction····················································\")\n",
    "df=pd.read_csv(dirPath)\n",
    "tempDf = df[ (df[\"isError_1\"]!=\"none\") ]\n",
    "print(\"len tempDf\",len(tempDf))\n",
    "\n",
    "# Destructive Front-Buying····················································\n",
    "print(\"Destructive Front-minting····················································\")\n",
    "df=pd.read_csv(dirPath)\n",
    "df = df[ (df[\"isError_1\"]!=\"none\") ]\n",
    "tempDf = df[ (df[\"startAddr\"]==\"0x0000000000000000000000000000000000000000\") & (df[\"isError_0\"]==\"None\") & (df[\"isError_1\"]!=\"None\") ]\n",
    "count.append(len(tempDf))\n",
    "name.append(\"Destructive Front-Minting\")\n",
    "print(\"len tempDf\",len(tempDf))\n",
    "\n",
    "tempSet1=set(tempDf[\"transactionHash_0\"].values)\n",
    "print(\"transactionHash_0: \",len(tempSet1))\n",
    "\n",
    "tempSet2=set(tempDf[\"transactionHash_1\"].values)\n",
    "print(\"transactionHash_1: \",len(tempSet2))\n",
    "\n",
    "print(\"total transaction: \",len(tempSet1)+len(tempSet2))\n",
    "\n",
    "# Tolerating Front-Buying····················································\n",
    "print(\"Tolerating Front-minting····················································\")\n",
    "df=pd.read_csv(dirPath)\n",
    "df = df[ (df[\"isError_1\"]!=\"none\") ]\n",
    "tempDf = df[ (df[\"startAddr\"]==\"0x0000000000000000000000000000000000000000\") & (df[\"isError_0\"]==\"None\") & (df[\"isError_1\"]==\"None\") ]\n",
    "count.append(len(tempDf))\n",
    "name.append(\"Tolerating Front-Minting\")\n",
    "print(\"len tempDf\",len(tempDf))\n",
    "\n",
    "tempSet1=set(tempDf[\"transactionHash_0\"].values)\n",
    "print(\"transactionHash_0: \",len(tempSet1))\n",
    "\n",
    "tempSet2=set(tempDf[\"transactionHash_1\"].values)\n",
    "print(\"transactionHash_1: \",len(tempSet2))\n",
    "\n",
    "print(\"total transaction: \",len(tempSet1)+len(tempSet2))\n",
    "\n",
    "# Destructive Front-Buying····················································\n",
    "print(\"Destructive Front-Buying····················································\")\n",
    "df=pd.read_csv(dirPath)\n",
    "df = df[ (df[\"isError_1\"]!=\"none\") ]\n",
    "tempDf = df[ (df[\"startAddr\"]!=\"0x0000000000000000000000000000000000000000\") & (df[\"isError_0\"]==\"None\") & (df[\"isError_1\"]!=\"None\") ]\n",
    "count.append(len(tempDf))\n",
    "name.append(\"Destructive Front-Buying\")\n",
    "print(\"len tempDf\",len(tempDf))\n",
    "\n",
    "tempSet1=set(tempDf[\"transactionHash_0\"].values)\n",
    "print(\"transactionHash_0: \",len(tempSet1))\n",
    "\n",
    "tempSet2=set(tempDf[\"transactionHash_1\"].values)\n",
    "print(\"transactionHash_1: \",len(tempSet2))\n",
    "\n",
    "print(\"total transaction: \",len(tempSet1)+len(tempSet2))\n",
    "\n",
    "# Tolerating Front-Buying····················································\n",
    "print(\"Tolerating Front-Buying····················································\")\n",
    "df=pd.read_csv(dirPath)\n",
    "df = df[ (df[\"isError_1\"]!=\"none\") ]\n",
    "tempDf = df[ (df[\"startAddr\"]!=\"0x0000000000000000000000000000000000000000\") & (df[\"isError_0\"]==\"None\") & (df[\"isError_1\"]==\"None\") ]\n",
    "count.append(len(tempDf))\n",
    "name.append(\"Tolerating Front-Buying\")\n",
    "print(\"len tempDf\",len(tempDf))\n",
    "\n",
    "tempSet1=set(tempDf[\"transactionHash_0\"].values)\n",
    "print(\"transactionHash_0: \",len(tempSet1))\n",
    "\n",
    "tempSet2=set(tempDf[\"transactionHash_1\"].values)\n",
    "print(\"transactionHash_1: \",len(tempSet2))\n",
    "\n",
    "print(\"total transaction: \",len(tempSet1)+len(tempSet2))"
   ]
  },
  {
   "cell_type": "markdown",
   "metadata": {},
   "source": [
    "# 画图"
   ]
  },
  {
   "cell_type": "code",
   "execution_count": 7,
   "metadata": {},
   "outputs": [
    {
     "name": "stdout",
     "output_type": "stream",
     "text": [
      "1.170284952968359\n",
      "94.12676692008972\n",
      "4.557569324970245\n",
      "0.14537700917571783\n"
     ]
    },
    {
     "data": {
      "image/png": "[encoded data removed]",
      "text/plain": [
       "<Figure size 640x480 with 1 Axes>"
      ]
     },
     "metadata": {},
     "output_type": "display_data"
    }
   ],
   "source": [
    "name2count={}\n",
    "for i in range(len(count)):\n",
    "    name2count[name[i]]=count[i]\n",
    "    \n",
    "keys = list(name2count.keys())\n",
    "values = np.array(list(name2count.values()))\n",
    "\n",
    "num1=1\n",
    "num2=1\n",
    "num3=2\n",
    "num4=0\n",
    "\n",
    "def make_autopct(values):\n",
    "    def my_autopct(pct):\n",
    "        total = sum(values)\n",
    "        val = int(round(pct*total/100.0))\n",
    "        # 同时显示数值和占比的饼图\n",
    "        # return '{p:.2f}%  ({v:d})'.format(p=pct,v=val)\n",
    "        print(pct)\n",
    "        if pct<8:\n",
    "            return ''\n",
    "        else:\n",
    "            return '{p:.2f}%'.format(p=pct)\n",
    "    return my_autopct\n",
    "patches, texts,_ = plt.pie(values,autopct=make_autopct(values))\n",
    "\n",
    "\n",
    "# labels = ['{} {:1.2f}% ({})'.format(i, j, v) for i, j, v in\n",
    "#             zip(keys, 100. * values / values.sum(), values)]  # 构造图例数据\n",
    "labels = ['{} ({:1.2f}%) '.format(i, j) for i, j in\n",
    "            zip(keys, 100. * values / values.sum())]  # 构造图例数据\n",
    "\n",
    "# labels=keys\n",
    "\n",
    "patches, labels, dummy = zip(*sorted(\n",
    "    zip(patches, labels, values), key=lambda x: x[2], reverse=True))\n",
    "\n",
    "# plt.legend(patches[:10], labels[:10], fontsize=10,bbox_to_anchor=(num1, num2), loc=num3, borderaxespad=num4)\n",
    "plt.legend(patches, labels, fontsize=15,bbox_to_anchor=(num1, num2), loc=num3, borderaxespad=num4,ncol=1)\n",
    "plt.tight_layout()\n",
    "\n",
    "plt.savefig(\"/mnt/sde1/geth/nft_analyse_v1/data/nftflow/photo/typeDistribution.pdf\",bbox_inches='tight')"
   ]
  },
  {
   "cell_type": "code",
   "execution_count": null,
   "metadata": {},
   "outputs": [],
   "source": []
  }
 ],
 "metadata": {
  "kernelspec": {
   "display_name": "base",
   "language": "python",
   "name": "python3"
  },
  "language_info": {
   "codemirror_mode": {
    "name": "ipython",
    "version": 3
   },
   "file_extension": ".py",
   "mimetype": "text/x-python",
   "name": "python",
   "nbconvert_exporter": "python",
   "pygments_lexer": "ipython3",
   "version": "3.9.13"
  },
  "orig_nbformat": 4,
  "vscode": {
   "interpreter": {
    "hash": "61a57a4b5406d2de388e2f91097d4e4bcd7d5f4a46f53a795aa28a02eed27fc5"
   }
  }
 },
 "nbformat": 4,
 "nbformat_minor": 2
}
