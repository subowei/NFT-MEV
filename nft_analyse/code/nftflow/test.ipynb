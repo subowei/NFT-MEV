{
 "cells": [
  {
   "cell_type": "code",
   "execution_count": 3,
   "metadata": {},
   "outputs": [
    {
     "name": "stderr",
     "output_type": "stream",
     "text": [
      "/tmp/ipykernel_1684010/3362901136.py:12: DtypeWarning: Columns (2,21) have mixed types. Specify dtype option on import or set low_memory=False.\n",
      "  df=pd.read_csv(\"/mnt/sde1/geth/nft_analyse_v1/data/nftflow/csv/nftFlow_final.csv\")\n"
     ]
    }
   ],
   "source": [
    "import pandas as pd\n",
    "import pandas as pd\n",
    "#设置行不限制数量\n",
    "pd.set_option('display.max_rows',10)\n",
    "\n",
    "#设置列不限制数量\n",
    "\n",
    "pd.set_option('display.max_columns',None)\n",
    "\n",
    "#设置value的显示长度为100，默认为50\n",
    "pd.set_option('max_colwidth',100)\n",
    "df=pd.read_csv(\"/mnt/sde1/geth/nft_analyse_v1/data/nftflow/csv/nftFlow_final.csv\")"
   ]
  },
  {
   "cell_type": "code",
   "execution_count": 6,
   "metadata": {},
   "outputs": [
    {
     "data": {
      "text/plain": [
       "None    41272\n",
       "Name: isError_0, dtype: int64"
      ]
     },
     "execution_count": 6,
     "metadata": {},
     "output_type": "execute_result"
    }
   ],
   "source": [
    "df[\"isError_0\"].value_counts()"
   ]
  },
  {
   "cell_type": "code",
   "execution_count": 86,
   "metadata": {},
   "outputs": [
    {
     "data": {
      "text/plain": [
       "None          444710\n",
       "none           24497\n",
       "Reverted        4068\n",
       "Out of gas       428\n",
       "Name: isError_1, dtype: int64"
      ]
     },
     "execution_count": 86,
     "metadata": {},
     "output_type": "execute_result"
    }
   ],
   "source": [
    "df[\"isError_1\"].value_counts()"
   ]
  },
  {
   "cell_type": "code",
   "execution_count": 82,
   "metadata": {},
   "outputs": [],
   "source": [
    "\n",
    "df=df[df[\"isError_1\"]!=\"none\"]\n",
    "df['positionOriginal_0'] = df['positionOriginal_0'].astype(int)\n",
    "df['positionOriginal_1'] = df['positionOriginal_1'].astype(int)\n",
    "df['positionEdited_0'] = df['positionEdited_0'].astype(int)\n",
    "df['positionEdited_1'] = df['positionEdited_1'].astype(int)\n",
    "\n",
    "\n",
    "df=df[df[\"positionEdited_0\"]<df[\"positionOriginal_0\"]]\n",
    "df=df[df[\"positionOriginal_0\"]>df[\"positionOriginal_1\"]]\n",
    "df=df[df[\"positionEdited_0\"]<df[\"positionEdited_1\"]]\n",
    "\n",
    "# df=df[df[\"positionEdited_0\"]<df[\"positionOriginal_0\"]]\n",
    "\n",
    "# df=df[df[\"isError_1\"]==\"Reverted\"]\n",
    "# df=df[df[\"startAddr\"]!=\"0x0000000000000000000000000000000000000000\"]"
   ]
  },
  {
   "cell_type": "code",
   "execution_count": 81,
   "metadata": {},
   "outputs": [
    {
     "data": {
      "text/html": [
       "<div>\n",
       "<style scoped>\n",
       "    .dataframe tbody tr th:only-of-type {\n",
       "        vertical-align: middle;\n",
       "    }\n",
       "\n",
       "    .dataframe tbody tr th {\n",
       "        vertical-align: top;\n",
       "    }\n",
       "\n",
       "    .dataframe thead th {\n",
       "        text-align: right;\n",
       "    }\n",
       "</style>\n",
       "<table border=\"1\" class=\"dataframe\">\n",
       "  <thead>\n",
       "    <tr style=\"text-align: right;\">\n",
       "      <th></th>\n",
       "      <th>blockNum</th>\n",
       "      <th>tokenAddress</th>\n",
       "      <th>tokenId</th>\n",
       "      <th>startAddr</th>\n",
       "      <th>tokenIdOwnerAddrOriginal</th>\n",
       "      <th>tokenIdOwnerAddrEdited</th>\n",
       "      <th>endAddr_0</th>\n",
       "      <th>transactionHash_0</th>\n",
       "      <th>positionOriginal_0</th>\n",
       "      <th>positionEdited_0</th>\n",
       "      <th>endAddr_1</th>\n",
       "      <th>transactionHash_1</th>\n",
       "      <th>positionOriginal_1</th>\n",
       "      <th>positionEdited_1</th>\n",
       "      <th>timestamp</th>\n",
       "      <th>isError_0</th>\n",
       "      <th>transactionFee_0</th>\n",
       "      <th>from_0</th>\n",
       "      <th>to_0</th>\n",
       "      <th>isError_1</th>\n",
       "      <th>transactionFee_1</th>\n",
       "      <th>from_1</th>\n",
       "      <th>to_1</th>\n",
       "    </tr>\n",
       "  </thead>\n",
       "  <tbody>\n",
       "    <tr>\n",
       "      <th>13290</th>\n",
       "      <td>13235778</td>\n",
       "      <td>0x043474a14f17cf4f48bd07b385c077c45fd6707e</td>\n",
       "      <td>350</td>\n",
       "      <td>0x0000000000000000000000000000000000000000</td>\n",
       "      <td>0x977fe595ce1dd1bbb84032c917e4b67c581d1949</td>\n",
       "      <td>0xc29faf74bea5ba892dda8d6588338d159e1cc9e8</td>\n",
       "      <td>0x977fe595ce1dd1bbb84032c917e4b67c581d1949</td>\n",
       "      <td>0x452ccbdfbf4207f71af733e94373d3fd06da7262bde37306e8b36519e60ed7cc</td>\n",
       "      <td>262</td>\n",
       "      <td>253</td>\n",
       "      <td>0xc29faf74bea5ba892dda8d6588338d159e1cc9e8</td>\n",
       "      <td>0x5958ea8d531205a18fdcdb5b87bed992abb988d0e000ac7a438141af1776c16b</td>\n",
       "      <td>17</td>\n",
       "      <td>351</td>\n",
       "      <td>1631782057</td>\n",
       "      <td>None</td>\n",
       "      <td>13095165249897012</td>\n",
       "      <td>0x977fe595ce1dd1bbb84032c917e4b67c581d1949</td>\n",
       "      <td>0x7be8076f4ea4a4ad08075c2508e481d6c946d12b</td>\n",
       "      <td>Reverted</td>\n",
       "      <td>2899550553527208</td>\n",
       "      <td>0xc29faf74bea5ba892dda8d6588338d159e1cc9e8</td>\n",
       "      <td>0x7be8076f4ea4a4ad08075c2508e481d6c946d12b</td>\n",
       "    </tr>\n",
       "    <tr>\n",
       "      <th>13331</th>\n",
       "      <td>13236308</td>\n",
       "      <td>0x043474a14f17cf4f48bd07b385c077c45fd6707e</td>\n",
       "      <td>1108</td>\n",
       "      <td>0x0000000000000000000000000000000000000000</td>\n",
       "      <td>0x00fcdd680c969b15432d8f732cc0d4f991dbbce8</td>\n",
       "      <td>0x7fb63094bb1a2c7ab8987fabfb41b18f67f04a98</td>\n",
       "      <td>0x00fcdd680c969b15432d8f732cc0d4f991dbbce8</td>\n",
       "      <td>0x522c7ff2229a5fe2ffe89ea2ceacf29e4bcb9e331d3a01e2ad211366270e750e</td>\n",
       "      <td>15</td>\n",
       "      <td>7</td>\n",
       "      <td>0x7fb63094bb1a2c7ab8987fabfb41b18f67f04a98</td>\n",
       "      <td>0xad9eb0c097aeac6f35b5dba57e9c79c7c08bb646081a6ce5a66f25fe2fb4f1a9</td>\n",
       "      <td>11</td>\n",
       "      <td>124</td>\n",
       "      <td>1631789162</td>\n",
       "      <td>None</td>\n",
       "      <td>39021315698952951</td>\n",
       "      <td>0x00fcdd680c969b15432d8f732cc0d4f991dbbce8</td>\n",
       "      <td>0x7be8076f4ea4a4ad08075c2508e481d6c946d12b</td>\n",
       "      <td>Reverted</td>\n",
       "      <td>3413559092891844</td>\n",
       "      <td>0x7fb63094bb1a2c7ab8987fabfb41b18f67f04a98</td>\n",
       "      <td>0x7be8076f4ea4a4ad08075c2508e481d6c946d12b</td>\n",
       "    </tr>\n",
       "    <tr>\n",
       "      <th>30920</th>\n",
       "      <td>13358497</td>\n",
       "      <td>0x9cda227147684fc93850d596e13e82ba6599beee</td>\n",
       "      <td>4442</td>\n",
       "      <td>0x0000000000000000000000000000000000000000</td>\n",
       "      <td>0x1f0cdd9406daea08bc07b97a24cea95a42c23521</td>\n",
       "      <td>0x7361265d31d5b6bbfc2fabe5ae2e2865f1b33245</td>\n",
       "      <td>0x1f0cdd9406daea08bc07b97a24cea95a42c23521</td>\n",
       "      <td>0x03518f05de739d2d56d2d80ec93f29e5f52ed90d1d39e515280d109212c90304</td>\n",
       "      <td>35</td>\n",
       "      <td>30</td>\n",
       "      <td>0x7361265d31d5b6bbfc2fabe5ae2e2865f1b33245</td>\n",
       "      <td>0x41fe5eab1104c10bf4003729a7bfa36374725af93ac7272a998afaa262ce62b3</td>\n",
       "      <td>11</td>\n",
       "      <td>64</td>\n",
       "      <td>1633429054</td>\n",
       "      <td>None</td>\n",
       "      <td>15421831441203705</td>\n",
       "      <td>0x1f0cdd9406daea08bc07b97a24cea95a42c23521</td>\n",
       "      <td>0x9cda227147684fc93850d596e13e82ba6599beee</td>\n",
       "      <td>Reverted</td>\n",
       "      <td>3248126150345315</td>\n",
       "      <td>0x7361265d31d5b6bbfc2fabe5ae2e2865f1b33245</td>\n",
       "      <td>0x9cda227147684fc93850d596e13e82ba6599beee</td>\n",
       "    </tr>\n",
       "    <tr>\n",
       "      <th>30921</th>\n",
       "      <td>13358497</td>\n",
       "      <td>0x9cda227147684fc93850d596e13e82ba6599beee</td>\n",
       "      <td>4443</td>\n",
       "      <td>0x0000000000000000000000000000000000000000</td>\n",
       "      <td>0xc29240cde41c959d1ecd324f5cc796394d04ac60</td>\n",
       "      <td>0x7361265d31d5b6bbfc2fabe5ae2e2865f1b33245</td>\n",
       "      <td>0xc29240cde41c959d1ecd324f5cc796394d04ac60</td>\n",
       "      <td>0x988864a1e29e763e7241582a7d95ad8d7ee804c80a57dfe0d93ac1049812df23</td>\n",
       "      <td>53</td>\n",
       "      <td>48</td>\n",
       "      <td>0x7361265d31d5b6bbfc2fabe5ae2e2865f1b33245</td>\n",
       "      <td>0x41fe5eab1104c10bf4003729a7bfa36374725af93ac7272a998afaa262ce62b3</td>\n",
       "      <td>11</td>\n",
       "      <td>64</td>\n",
       "      <td>1633429054</td>\n",
       "      <td>None</td>\n",
       "      <td>15421831441203705</td>\n",
       "      <td>0xc29240cde41c959d1ecd324f5cc796394d04ac60</td>\n",
       "      <td>0x9cda227147684fc93850d596e13e82ba6599beee</td>\n",
       "      <td>Reverted</td>\n",
       "      <td>3248126150345315</td>\n",
       "      <td>0x7361265d31d5b6bbfc2fabe5ae2e2865f1b33245</td>\n",
       "      <td>0x9cda227147684fc93850d596e13e82ba6599beee</td>\n",
       "    </tr>\n",
       "  </tbody>\n",
       "</table>\n",
       "</div>"
      ],
      "text/plain": [
       "       blockNum                                tokenAddress tokenId  \\\n",
       "13290  13235778  0x043474a14f17cf4f48bd07b385c077c45fd6707e     350   \n",
       "13331  13236308  0x043474a14f17cf4f48bd07b385c077c45fd6707e    1108   \n",
       "30920  13358497  0x9cda227147684fc93850d596e13e82ba6599beee    4442   \n",
       "30921  13358497  0x9cda227147684fc93850d596e13e82ba6599beee    4443   \n",
       "\n",
       "                                        startAddr  \\\n",
       "13290  0x0000000000000000000000000000000000000000   \n",
       "13331  0x0000000000000000000000000000000000000000   \n",
       "30920  0x0000000000000000000000000000000000000000   \n",
       "30921  0x0000000000000000000000000000000000000000   \n",
       "\n",
       "                         tokenIdOwnerAddrOriginal  \\\n",
       "13290  0x977fe595ce1dd1bbb84032c917e4b67c581d1949   \n",
       "13331  0x00fcdd680c969b15432d8f732cc0d4f991dbbce8   \n",
       "30920  0x1f0cdd9406daea08bc07b97a24cea95a42c23521   \n",
       "30921  0xc29240cde41c959d1ecd324f5cc796394d04ac60   \n",
       "\n",
       "                           tokenIdOwnerAddrEdited  \\\n",
       "13290  0xc29faf74bea5ba892dda8d6588338d159e1cc9e8   \n",
       "13331  0x7fb63094bb1a2c7ab8987fabfb41b18f67f04a98   \n",
       "30920  0x7361265d31d5b6bbfc2fabe5ae2e2865f1b33245   \n",
       "30921  0x7361265d31d5b6bbfc2fabe5ae2e2865f1b33245   \n",
       "\n",
       "                                        endAddr_0  \\\n",
       "13290  0x977fe595ce1dd1bbb84032c917e4b67c581d1949   \n",
       "13331  0x00fcdd680c969b15432d8f732cc0d4f991dbbce8   \n",
       "30920  0x1f0cdd9406daea08bc07b97a24cea95a42c23521   \n",
       "30921  0xc29240cde41c959d1ecd324f5cc796394d04ac60   \n",
       "\n",
       "                                                        transactionHash_0  \\\n",
       "13290  0x452ccbdfbf4207f71af733e94373d3fd06da7262bde37306e8b36519e60ed7cc   \n",
       "13331  0x522c7ff2229a5fe2ffe89ea2ceacf29e4bcb9e331d3a01e2ad211366270e750e   \n",
       "30920  0x03518f05de739d2d56d2d80ec93f29e5f52ed90d1d39e515280d109212c90304   \n",
       "30921  0x988864a1e29e763e7241582a7d95ad8d7ee804c80a57dfe0d93ac1049812df23   \n",
       "\n",
       "       positionOriginal_0  positionEdited_0  \\\n",
       "13290                 262               253   \n",
       "13331                  15                 7   \n",
       "30920                  35                30   \n",
       "30921                  53                48   \n",
       "\n",
       "                                        endAddr_1  \\\n",
       "13290  0xc29faf74bea5ba892dda8d6588338d159e1cc9e8   \n",
       "13331  0x7fb63094bb1a2c7ab8987fabfb41b18f67f04a98   \n",
       "30920  0x7361265d31d5b6bbfc2fabe5ae2e2865f1b33245   \n",
       "30921  0x7361265d31d5b6bbfc2fabe5ae2e2865f1b33245   \n",
       "\n",
       "                                                        transactionHash_1  \\\n",
       "13290  0x5958ea8d531205a18fdcdb5b87bed992abb988d0e000ac7a438141af1776c16b   \n",
       "13331  0xad9eb0c097aeac6f35b5dba57e9c79c7c08bb646081a6ce5a66f25fe2fb4f1a9   \n",
       "30920  0x41fe5eab1104c10bf4003729a7bfa36374725af93ac7272a998afaa262ce62b3   \n",
       "30921  0x41fe5eab1104c10bf4003729a7bfa36374725af93ac7272a998afaa262ce62b3   \n",
       "\n",
       "       positionOriginal_1  positionEdited_1   timestamp isError_0  \\\n",
       "13290                  17               351  1631782057      None   \n",
       "13331                  11               124  1631789162      None   \n",
       "30920                  11                64  1633429054      None   \n",
       "30921                  11                64  1633429054      None   \n",
       "\n",
       "        transactionFee_0                                      from_0  \\\n",
       "13290  13095165249897012  0x977fe595ce1dd1bbb84032c917e4b67c581d1949   \n",
       "13331  39021315698952951  0x00fcdd680c969b15432d8f732cc0d4f991dbbce8   \n",
       "30920  15421831441203705  0x1f0cdd9406daea08bc07b97a24cea95a42c23521   \n",
       "30921  15421831441203705  0xc29240cde41c959d1ecd324f5cc796394d04ac60   \n",
       "\n",
       "                                             to_0 isError_1  transactionFee_1  \\\n",
       "13290  0x7be8076f4ea4a4ad08075c2508e481d6c946d12b  Reverted  2899550553527208   \n",
       "13331  0x7be8076f4ea4a4ad08075c2508e481d6c946d12b  Reverted  3413559092891844   \n",
       "30920  0x9cda227147684fc93850d596e13e82ba6599beee  Reverted  3248126150345315   \n",
       "30921  0x9cda227147684fc93850d596e13e82ba6599beee  Reverted  3248126150345315   \n",
       "\n",
       "                                           from_1  \\\n",
       "13290  0xc29faf74bea5ba892dda8d6588338d159e1cc9e8   \n",
       "13331  0x7fb63094bb1a2c7ab8987fabfb41b18f67f04a98   \n",
       "30920  0x7361265d31d5b6bbfc2fabe5ae2e2865f1b33245   \n",
       "30921  0x7361265d31d5b6bbfc2fabe5ae2e2865f1b33245   \n",
       "\n",
       "                                             to_1  \n",
       "13290  0x7be8076f4ea4a4ad08075c2508e481d6c946d12b  \n",
       "13331  0x7be8076f4ea4a4ad08075c2508e481d6c946d12b  \n",
       "30920  0x9cda227147684fc93850d596e13e82ba6599beee  \n",
       "30921  0x9cda227147684fc93850d596e13e82ba6599beee  "
      ]
     },
     "execution_count": 81,
     "metadata": {},
     "output_type": "execute_result"
    }
   ],
   "source": [
    "df"
   ]
  },
  {
   "cell_type": "code",
   "execution_count": null,
   "metadata": {},
   "outputs": [],
   "source": []
  },
  {
   "cell_type": "markdown",
   "metadata": {},
   "source": []
  },
  {
   "cell_type": "code",
   "execution_count": 68,
   "metadata": {},
   "outputs": [
    {
     "data": {
      "text/plain": [
       "0x0000000000000000000000000000000000000000    10\n",
       "Name: startAddr, dtype: int64"
      ]
     },
     "execution_count": 68,
     "metadata": {},
     "output_type": "execute_result"
    }
   ],
   "source": [
    "df[\"startAddr\"].value_counts()"
   ]
  },
  {
   "cell_type": "code",
   "execution_count": null,
   "metadata": {},
   "outputs": [],
   "source": []
  }
 ],
 "metadata": {
  "kernelspec": {
   "display_name": "base",
   "language": "python",
   "name": "python3"
  },
  "language_info": {
   "codemirror_mode": {
    "name": "ipython",
    "version": 3
   },
   "file_extension": ".py",
   "mimetype": "text/x-python",
   "name": "python",
   "nbconvert_exporter": "python",
   "pygments_lexer": "ipython3",
   "version": "3.9.13"
  },
  "orig_nbformat": 4
 },
 "nbformat": 4,
 "nbformat_minor": 2
}
